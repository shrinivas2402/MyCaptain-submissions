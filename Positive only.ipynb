{
  "nbformat": 4,
  "nbformat_minor": 0,
  "metadata": {
    "colab": {
      "name": "Untitled3.ipynb",
      "provenance": [],
      "collapsed_sections": []
    },
    "kernelspec": {
      "name": "python3",
      "display_name": "Python 3"
    },
    "language_info": {
      "name": "python"
    }
  },
  "cells": [
    {
      "cell_type": "code",
      "metadata": {
        "id": "sHRyzZqAC1BP"
      },
      "source": [
        "listA = []\n",
        "\n",
        "n = int(input(\"Enter number of elements in the list : \"))\n",
        "\n",
        "for i in range(0, n):\n",
        "   print(\"Enter element No-{}: \".format(i+1))\n",
        "   ele = int(input())\n",
        "   listA.append(ele) \n",
        "print(\"The entered list is: \\n\",listA)\n",
        "\n",
        "def remove_negatives(listA):\n",
        "    #5\n",
        "    print(\"The original list : \", listA)\n",
        "    for num in listA: \n",
        "        if num < 0: \n",
        "           listA.remove(num) \n",
        "    print(\"The new list : \", listA)\n",
        "\n",
        "remove_negatives(listA)"
      ],
      "execution_count": null,
      "outputs": []
    }
  ]
}