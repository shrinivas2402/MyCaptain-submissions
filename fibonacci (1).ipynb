{
  "nbformat": 4,
  "nbformat_minor": 0,
  "metadata": {
    "colab": {
      "name": "fibonacci.ipynb",
      "provenance": [],
      "collapsed_sections": []
    },
    "kernelspec": {
      "name": "python3",
      "display_name": "Python 3"
    },
    "language_info": {
      "name": "python"
    }
  },
  "cells": [
    {
      "cell_type": "code",
      "metadata": {
        "colab": {
          "base_uri": "https://localhost:8080/"
        },
        "id": "XQjkN4PP0WJc",
        "outputId": "a9608275-559a-4725-a42e-c7af7f182449"
      },
      "source": [
        "n = int(input(\"Enter number of elements you want in Fibonacci Series (>2)\"))\n",
        "#input should be greater than 2 for series to be working\n",
        "#we initialize the list with starting elements to be : 0, 1\n",
        "fibonacci = [0,1]\n",
        "\n",
        "if n>2:\n",
        "\tfor i in range(2, n):\n",
        "\n",
        "\t\tnext = fibonacci[i-1] + fibonacci[i-2]\n",
        "\n",
        "\t\tfibonacci.append(next)\n",
        "\n",
        "print(fibonacci)\n",
        "#idk why this else isnt working :(\n",
        "#Captain if you could please help me out\n",
        "\n",
        "#else :\n",
        " #print(\"wrong input\")\n",
        "#instead, i added another if condition for printing wrong input\n",
        " if n<=2:\n",
        "   print(\"wrong input\")"
      ],
      "execution_count": 14,
      "outputs": [
        {
          "output_type": "stream",
          "text": [
            "Enter number of elements you want in Fibonacci Series (>2)2\n",
            "[0, 1]\n",
            "wrong input\n"
          ],
          "name": "stdout"
        }
      ]
    }
  ]
}