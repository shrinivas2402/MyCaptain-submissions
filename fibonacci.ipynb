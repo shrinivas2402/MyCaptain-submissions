{
  "nbformat": 4,
  "nbformat_minor": 0,
  "metadata": {
    "colab": {
      "name": "fibonacci.ipynb",
      "provenance": [],
      "collapsed_sections": []
    },
    "kernelspec": {
      "name": "python3",
      "display_name": "Python 3"
    },
    "language_info": {
      "name": "python"
    }
  },
  "cells": [
    {
      "cell_type": "code",
      "metadata": {
        "colab": {
          "base_uri": "https://localhost:8080/"
        },
        "id": "UlKpvelv0DqU",
        "outputId": "0d0d9643-ea91-4f9d-8fc3-a5d04b5a5278"
      },
      "source": [
        "a=int(input(\"Enter the terms\"))\n",
        "f=0                                         #first element of series\n",
        "s=1                                         #second element of series\n",
        "if a<=0:\n",
        "    print(\"The requested series is\",f)\n",
        "else:\n",
        "    print(f,s,end=\" \")\n",
        "    for x in range(2,a):\n",
        "        next=f+s                           \n",
        "        print(next,end=\" \")\n",
        "        f=s\n",
        "        s=next"
      ],
      "execution_count": null,
      "outputs": [
        {
          "output_type": "stream",
          "text": [
            "Enter the terms10\n",
            "0 1 1 2 3 5 8 13 21 34 "
          ],
          "name": "stdout"
        }
      ]
    },
    {
      "cell_type": "code",
      "metadata": {
        "colab": {
          "base_uri": "https://localhost:8080/"
        },
        "id": "XQjkN4PP0WJc",
        "outputId": "a9608275-559a-4725-a42e-c7af7f182449"
      },
      "source": [
        "n = int(input(\"Enter number of elements you want in Fibonacci Series (>2)\"))\n",
        "#input should be greater than 2 for series to be working\n",
        "#we initialize the list with starting elements to be : 0, 1\n",
        "fibonacci = [0,1]\n",
        "\n",
        "if n>2:\n",
        "\tfor i in range(2, n):\n",
        "\n",
        "\t\tnext = fibonacci[i-1] + fibonacci[i-2]\n",
        "\n",
        "\t\tfibonacci.append(next)\n",
        "\n",
        "print(fibonacci)\n",
        "#idk why this else isnt working :(\n",
        "#Captain if you could please help me out\n",
        "\n",
        "#else :\n",
        " #print(\"wrong input\")\n",
        "#instead, i added another if condition for printing wrong input\n",
        " if n<=2:\n",
        "   print(\"wrong input\")"
      ],
      "execution_count": 14,
      "outputs": [
        {
          "output_type": "stream",
          "text": [
            "Enter number of elements you want in Fibonacci Series (>2)2\n",
            "[0, 1]\n",
            "wrong input\n"
          ],
          "name": "stdout"
        }
      ]
    }
  ]
}